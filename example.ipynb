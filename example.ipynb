{
 "cells": [
  {
   "cell_type": "code",
   "execution_count": 1,
   "metadata": {},
   "outputs": [],
   "source": [
    "import torch\n",
    "import torchvision"
   ]
  },
  {
   "cell_type": "code",
   "execution_count": 8,
   "metadata": {},
   "outputs": [],
   "source": [
    "from train.train import Trainer"
   ]
  },
  {
   "cell_type": "code",
   "execution_count": 4,
   "metadata": {},
   "outputs": [],
   "source": [
    "device = torch.device(\"cuda\") if torch.cuda.is_available() else torch.device(\"cpu\")"
   ]
  },
  {
   "cell_type": "code",
   "execution_count": null,
   "metadata": {},
   "outputs": [],
   "source": [
    "# get data\n",
    "\n",
    "# note: autougment doesn't seem to work very well \n",
    "\n",
    "from utility.data.preprocessing import Autoaugment_preprocess\n",
    "transform = Autoaugment_preprocess(channels=3, resize_dim=(32,32), crop_dim=(28,28)) \n",
    "\n",
    "\n",
    "root = \"/home/peppe/01_Study/01_University/Semester/2/Intro_to_ML/Project/data\" # change this to your data directory\n",
    "\n",
    "trainset = torchvision.datasets.CIFAR10(root=root, train=True,\n",
    "                                      download=True, transform=transform.transform)\n",
    "\n",
    "trainset, valset = torch.utils.data.random_split(trainset, [45000, 5000])\n",
    "\n",
    "testset = torchvision.datasets.CIFAR10(root=root, train=False,\n",
    "                                       download=True, transform=transform.transform)\n",
    "\n",
    "trainloader = torch.utils.data.DataLoader(trainset, batch_size=64,\n",
    "                                          shuffle=True, num_workers=2)\n",
    "valloader = torch.utils.data.DataLoader(valset, batch_size=64,\n",
    "                                        shuffle=False, num_workers=2)\n",
    "testloader = torch.utils.data.DataLoader(testset, batch_size=64,\n",
    "                                         shuffle=False, num_workers=2)\n",
    "\n",
    "data_loaders = {\n",
    "    \"train_loader\": trainloader,\n",
    "    \"val_loader\": valloader,\n",
    "    \"test_loader\": testloader\n",
    "}          "
   ]
  },
  {
   "cell_type": "code",
   "execution_count": 15,
   "metadata": {},
   "outputs": [],
   "source": [
    "# create simple model \n",
    "\n",
    "import torch.nn as nn\n",
    "import torch.nn.functional as F\n",
    "\n",
    "class SimpleCNN(nn.Module):\n",
    "    def __init__(self):\n",
    "        super(SimpleCNN, self).__init__()\n",
    "        self.conv1 = nn.Conv2d(3, 16, kernel_size=3, padding=1)\n",
    "        self.conv2 = nn.Conv2d(16, 32, kernel_size=3, padding=1)\n",
    "        self.pool = nn.MaxPool2d(2, 2)\n",
    "        self.fc1 = nn.Linear(32 * 7 * 7, 128)\n",
    "        self.fc2 = nn.Linear(128, 10)\n",
    "\n",
    "    def forward(self, x):\n",
    "        x = self.pool(F.relu(self.conv1(x)))\n",
    "        x = self.pool(F.relu(self.conv2(x)))\n",
    "        x = x.view(-1, 32 * 7 * 7)\n",
    "        x = F.relu(self.fc1(x))\n",
    "        x = self.fc2(x)\n",
    "        return x"
   ]
  },
  {
   "cell_type": "code",
   "execution_count": 16,
   "metadata": {},
   "outputs": [],
   "source": [
    "from methods.SAM.sam import SAM\n",
    "from torch.optim.lr_scheduler import StepLR\n",
    "from utility.custom_scheduler import StepLR_SAM\n",
    "\n",
    "model = SimpleCNN()\n",
    "\n",
    "optimizer = torch.optim.SGD(model.parameters(), lr=0.1, momentum=0.9, weight_decay=0.005)\n",
    "scheduler = StepLR(optimizer, step_size=1, gamma=0.01)"
   ]
  },
  {
   "cell_type": "code",
   "execution_count": 17,
   "metadata": {},
   "outputs": [],
   "source": [
    "sam_optimizer = SAM(model.parameters(), \n",
    "                torch.optim.SGD, \n",
    "                rho=2, \n",
    "                adaptive=True, \n",
    "                lr=0.1, momentum=0.9, weight_decay=0.005)\n",
    "SAM_scheduler = StepLR_SAM(sam_optimizer, step_size=1, gamma=0.01)"
   ]
  },
  {
   "cell_type": "code",
   "execution_count": 18,
   "metadata": {},
   "outputs": [],
   "source": [
    "simple_net = Trainer(data_loaders=data_loaders,\n",
    "                     dataset_name=\"CIFAR10\",\n",
    "                     model=model,\n",
    "                     optimizer=optimizer,\n",
    "                     loss_fn=nn.CrossEntropyLoss(label_smoothing=0.1),\n",
    "                     device=device,\n",
    "                     seed=42,\n",
    "                     exp_path=\"/home/peppe/01_Study/01_University/Semester/2/Intro_to_ML/Project/Code/experiments\",\n",
    "                     exp_name=\"test_1\",\n",
    "                     use_early_stopping=True,\n",
    "                     scheduler=scheduler\n",
    "                    )"
   ]
  },
  {
   "cell_type": "code",
   "execution_count": 19,
   "metadata": {},
   "outputs": [],
   "source": [
    "preds = simple_net.get_predictions(test=True)"
   ]
  },
  {
   "cell_type": "code",
   "execution_count": null,
   "metadata": {},
   "outputs": [],
   "source": [
    "from utility.plot import plot_confusion_matrix\n",
    "\n",
    "plot_confusion_matrix(preds[\"y_true\"], preds[\"y_pred\"], \n",
    "                      normalize=None, # takes one of {\"true\", \"pred\", \"all\"}\n",
    "                      fmt=\"d\", # set to \".2f\" for percentages\n",
    "                      width=10,\n",
    "                      height=4,\n",
    "                      type=\"normal\", # takes one of {\"normal\", \"one_vs_all\"} \n",
    "                      onv_vs_all_class=None,\n",
    "                      cmap=\"Blues\",\n",
    "                      classes=None, # select classes to make the confusion matrix, if None uses all  \n",
    "                      ) "
   ]
  },
  {
   "cell_type": "code",
   "execution_count": null,
   "metadata": {},
   "outputs": [],
   "source": [
    "simple_net.main(epochs=2, \n",
    "                log_interval=0.1)"
   ]
  },
  {
   "cell_type": "code",
   "execution_count": null,
   "metadata": {},
   "outputs": [],
   "source": [
    "# visualize with tensorboard\n",
    "%reload_ext tensorboard\n",
    "%tensorboard --logdir=/home/peppe/01_Study/01_University/Semester/2/Intro_to_ML/Project/Code/experiments # experiment path"
   ]
  }
 ],
 "metadata": {
  "kernelspec": {
   "display_name": "Python 3",
   "language": "python",
   "name": "python3"
  },
  "language_info": {
   "codemirror_mode": {
    "name": "ipython",
    "version": 3
   },
   "file_extension": ".py",
   "mimetype": "text/x-python",
   "name": "python",
   "nbconvert_exporter": "python",
   "pygments_lexer": "ipython3",
   "version": "3.10.12"
  }
 },
 "nbformat": 4,
 "nbformat_minor": 2
}
