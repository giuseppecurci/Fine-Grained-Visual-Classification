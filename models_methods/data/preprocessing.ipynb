{
 "cells": [
  {
   "cell_type": "code",
   "execution_count": 1,
   "metadata": {},
   "outputs": [],
   "source": [
    "import torchvision.transforms as transforms\n",
    "from torchvision.transforms import AutoAugmentPolicy\n",
    "import os"
   ]
  },
  {
   "cell_type": "code",
   "execution_count": 7,
   "metadata": {},
   "outputs": [],
   "source": [
    "os.chdir(\"/home/peppe/01_Study/01_University/Semester/2/Intro_to_ML/Project/Code/models_methods\")\n",
    "from utility.cutout import Cutout"
   ]
  },
  {
   "cell_type": "code",
   "execution_count": 20,
   "metadata": {},
   "outputs": [],
   "source": [
    "class SAM_preprocess:\n",
    "    def __init__(self, resize_dim, crop_dim,cutout_size=16, cutout_p=0.5):\n",
    "        # ImageNet1k mean and std\n",
    "        mean, std = (0.4914, 0.4822, 0.4465), (0.2023, 0.1994, 0.2010)\n",
    "        self.train_transform = transforms.Compose([\n",
    "            transforms.Resize(resize_dim), \n",
    "            transforms.RandomCrop(size=crop_dim),\n",
    "            transforms.RandomHorizontalFlip(),\n",
    "            transforms.ToTensor(),\n",
    "            transforms.Normalize(mean, std),\n",
    "            Cutout(size=cutout_size, p=cutout_p)\n",
    "        ])\n",
    "\n",
    "        self.test_transform = transforms.Compose([\n",
    "            transforms.ToTensor(),\n",
    "            transforms.Normalize(mean, std)\n",
    "        ])"
   ]
  },
  {
   "cell_type": "code",
   "execution_count": 22,
   "metadata": {},
   "outputs": [],
   "source": [
    "class Autoaugment_preprocess:\n",
    "    def __init__(self, resize_dim, crop_dim, policy=AutoAugmentPolicy.IMAGENET):\n",
    "        \"\"\"\n",
    "        Uses as default AutoAugmentPolicy.IMAGENET, other options are:\n",
    "        - AutoAugmentPolicy.CIFAR10\n",
    "        - AutoAugmentPolicy.SVHN\n",
    "        \"\"\"\n",
    "        # ImageNet1k mean and std\n",
    "        mean, std = (0.4914, 0.4822, 0.4465), (0.2023, 0.1994, 0.2010)\n",
    "        self.train_transform = transforms.Compose([\n",
    "            transforms.AutoAugment(policy=policy),\n",
    "            transforms.Resize(resize_dim),                                                   \n",
    "            transforms.RandomCrop(crop_dim),\n",
    "            transforms.ToTensor(),\n",
    "            transforms.Normalize(mean, std)\n",
    "        ])\n",
    "\n",
    "        self.test_transform = transforms.Compose([\n",
    "            transforms.ToTensor(),\n",
    "            transforms.Normalize(mean, std)\n",
    "        ])"
   ]
  }
 ],
 "metadata": {
  "kernelspec": {
   "display_name": "Python 3",
   "language": "python",
   "name": "python3"
  },
  "language_info": {
   "codemirror_mode": {
    "name": "ipython",
    "version": 3
   },
   "file_extension": ".py",
   "mimetype": "text/x-python",
   "name": "python",
   "nbconvert_exporter": "python",
   "pygments_lexer": "ipython3",
   "version": "3.10.12"
  }
 },
 "nbformat": 4,
 "nbformat_minor": 2
}
