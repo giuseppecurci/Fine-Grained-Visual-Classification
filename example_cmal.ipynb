{
 "cells": [
  {
   "cell_type": "code",
   "execution_count": null,
   "metadata": {},
   "outputs": [],
   "source": [
    "import torch\n",
    "import torchvision\n",
    "import torch.nn as nn\n",
    "import torch.optim as optim\n",
    "from torch.utils.data import Dataset\n",
    "from train.train import Trainer\n",
    "\n",
    "from methods.CMAL.builder_resnet import Network_Wrapper\n",
    "from torch.utils.model_zoo import load_url as load_state_dict_from_url\n",
    "from torch.optim.lr_scheduler import StepLR"
   ]
  },
  {
   "cell_type": "code",
   "execution_count": null,
   "metadata": {},
   "outputs": [],
   "source": [
    "device = torch.device(\"cuda\") if torch.cuda.is_available() else torch.device(\"cpu\")"
   ]
  },
  {
   "cell_type": "code",
   "execution_count": null,
   "metadata": {},
   "outputs": [],
   "source": [
    "import torchvision.transforms as transforms\n",
    "from utility.data.preprocessing import Autoaugment_preprocess\n",
    "transform = Autoaugment_preprocess(channels=3, resize_dim=(260,260), crop_dim=(224,224)) \n",
    "\n",
    "class TestDataset(Dataset):\n",
    "    def __init__(self, test_dir, transform=None):\n",
    "        self.test_dir = test_dir\n",
    "        self.image_files = [f for f in os.listdir(test_dir) if os.path.isfile(os.path.join(test_dir, f))]\n",
    "        self.transform = transform\n",
    "\n",
    "    def __len__(self):\n",
    "        return len(self.image_files)\n",
    "\n",
    "    def __getitem__(self, idx):\n",
    "        img_name = os.path.join(self.test_dir, self.image_files[idx])\n",
    "        image = Image.open(img_name)\n",
    "        if self.transform:\n",
    "            image = self.transform(image)\n",
    "        return image, self.image_files[idx]\n",
    "\n",
    "train_dir = \"./images/competition_data/train\"\n",
    "test_dir = \"./images/competition_data/test\"\n",
    "\n",
    "#train_data = datasets.ImageFolder(root = train_dir, transform = transform.transform)\n",
    "#num_train = int(len(train_data) * 0.8)\n",
    "#num_val = len(train_data) - num_train\n",
    "#trainset, valset = random_split(train_data, [num_train, num_val])\n",
    "\n",
    "#testset = TestDataset(test_dir, transform = transform.transform)\n",
    "\n",
    "trainset = torchvision.datasets.FGVCAircraft(root=root, split = 'train',\n",
    "                                             download=True, transform=transform.transform)\n",
    "\n",
    "valset = torchvision.datasets.FGVCAircraft(root=root, split = 'val',\n",
    "                                            download=True, transform=transform.transform)\n",
    "\n",
    "testset = torchvision.datasets.FGVCAircraft(root=root, split = 'test',\n",
    "                                            download=True, transform=transform.transform)\n",
    "\n",
    "trainloader = torch.utils.data.DataLoader(trainset, batch_size=16,\n",
    "                                          shuffle=True, num_workers=2)\n",
    "valloader = torch.utils.data.DataLoader(valset, batch_size=16,\n",
    "                                        shuffle=False, num_workers=2)\n",
    "testloader = torch.utils.data.DataLoader(testset, batch_size=16,\n",
    "                                         shuffle=False, num_workers=2)\n",
    "\n",
    "data_loaders = {\n",
    "    \"train_loader\": trainloader,\n",
    "    \"val_loader\": valloader,\n",
    "    \"test_loader\": valloader\n",
    "}          \n"
   ]
  },
  {
   "cell_type": "code",
   "execution_count": 4,
   "metadata": {},
   "outputs": [],
   "source": [
    "model = torchvision.models.resnet50()\n",
    "state_dict = load_state_dict_from_url('https://download.pytorch.org/models/resnet50-19c8e357.pth')\n",
    "model.load_state_dict(state_dict)\n",
    "\n",
    "net_layers = list(model.children())\n",
    "net_layers = net_layers[0:8]\n",
    "\n",
    "model = Network_Wrapper(net_layers, 100)"
   ]
  },
  {
   "cell_type": "code",
   "execution_count": 5,
   "metadata": {},
   "outputs": [],
   "source": [
    "#model = torchvision.models.resnext50_32x4d(weights='DEFAULT')\n",
    "\n",
    "#net_layers = list(model.children())\n",
    "#net_layers = net_layers[0:8]\n",
    "\n",
    "#model = Network_Wrapper(net_layers, 102)"
   ]
  },
  {
   "cell_type": "code",
   "execution_count": 6,
   "metadata": {},
   "outputs": [],
   "source": [
    "optimizer = optim.SGD([\n",
    "    {'params': model.classifier_concat.parameters(), 'lr': 0.002},\n",
    "    {'params': model.conv_block1.parameters(), 'lr': 0.002},\n",
    "    {'params': model.classifier1.parameters(), 'lr': 0.002},\n",
    "    {'params': model.conv_block2.parameters(), 'lr': 0.002},\n",
    "    {'params': model.classifier2.parameters(), 'lr': 0.002},\n",
    "    {'params': model.conv_block3.parameters(), 'lr': 0.002},\n",
    "    {'params': model.classifier3.parameters(), 'lr': 0.002},\n",
    "    {'params': model.Features.parameters(), 'lr': 0.0002}\n",
    "\n",
    "],\n",
    "    momentum=0.9, weight_decay=5e-4)"
   ]
  },
  {
   "cell_type": "code",
   "execution_count": 7,
   "metadata": {},
   "outputs": [],
   "source": [
    "CELoss = nn.CrossEntropyLoss()\n",
    "\n",
    "scheduler = StepLR(optimizer, step_size=1, gamma=0.01)"
   ]
  },
  {
   "cell_type": "code",
   "execution_count": null,
   "metadata": {},
   "outputs": [],
   "source": [
    "model.to(device)"
   ]
  },
  {
   "cell_type": "code",
   "execution_count": 11,
   "metadata": {},
   "outputs": [],
   "source": [
    "training = Trainer(\n",
    "    data_loaders=data_loaders, \n",
    "    dataset_name = \"Mammalia\",\n",
    "    model=model,\n",
    "    optimizer=optimizer,\n",
    "    loss_fn=CELoss,\n",
    "    device=device,\n",
    "    seed=42,\n",
    "    exp_path=\"/home/zazza/Documents/ML/Fine-Grained-Visual-Classification/data\", # change this to you where you want to save the experiment\n",
    "    exp_name=\"ResNet50_CMAL_Mammalia\", # name of the experiment\n",
    "    use_early_stopping=True)"
   ]
  },
  {
   "cell_type": "code",
   "execution_count": null,
   "metadata": {},
   "outputs": [],
   "source": [
    "training.main(epochs=5, log_interval = 20)"
   ]
  }
 ],
 "metadata": {
  "kernelspec": {
   "display_name": "Python 3",
   "language": "python",
   "name": "python3"
  },
  "language_info": {
   "codemirror_mode": {
    "name": "ipython",
    "version": 3
   },
   "file_extension": ".py",
   "mimetype": "text/x-python",
   "name": "python",
   "nbconvert_exporter": "python",
   "pygments_lexer": "ipython3",
   "version": "3.10.12"
  }
 },
 "nbformat": 4,
 "nbformat_minor": 2
}
